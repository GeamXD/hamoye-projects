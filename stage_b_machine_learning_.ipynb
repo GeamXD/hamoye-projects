{
  "nbformat": 4,
  "nbformat_minor": 0,
  "metadata": {
    "colab": {
      "provenance": []
    },
    "kernelspec": {
      "name": "python3",
      "display_name": "Python 3"
    },
    "language_info": {
      "name": "python"
    }
  },
  "cells": [
    {
      "cell_type": "code",
      "execution_count": 4,
      "metadata": {
        "colab": {
          "base_uri": "https://localhost:8080/"
        },
        "id": "Hfa0EROygrr1",
        "outputId": "1c742543-11d8-400f-a593-f0ea51f35b96"
      },
      "outputs": [
        {
          "output_type": "stream",
          "name": "stdout",
          "text": [
            "Requirement already satisfied: gdown in /usr/local/lib/python3.10/dist-packages (5.1.0)\n",
            "Requirement already satisfied: beautifulsoup4 in /usr/local/lib/python3.10/dist-packages (from gdown) (4.12.3)\n",
            "Requirement already satisfied: filelock in /usr/local/lib/python3.10/dist-packages (from gdown) (3.13.4)\n",
            "Requirement already satisfied: requests[socks] in /usr/local/lib/python3.10/dist-packages (from gdown) (2.31.0)\n",
            "Requirement already satisfied: tqdm in /usr/local/lib/python3.10/dist-packages (from gdown) (4.66.2)\n",
            "Requirement already satisfied: soupsieve>1.2 in /usr/local/lib/python3.10/dist-packages (from beautifulsoup4->gdown) (2.5)\n",
            "Requirement already satisfied: charset-normalizer<4,>=2 in /usr/local/lib/python3.10/dist-packages (from requests[socks]->gdown) (3.3.2)\n",
            "Requirement already satisfied: idna<4,>=2.5 in /usr/local/lib/python3.10/dist-packages (from requests[socks]->gdown) (3.7)\n",
            "Requirement already satisfied: urllib3<3,>=1.21.1 in /usr/local/lib/python3.10/dist-packages (from requests[socks]->gdown) (2.0.7)\n",
            "Requirement already satisfied: certifi>=2017.4.17 in /usr/local/lib/python3.10/dist-packages (from requests[socks]->gdown) (2024.2.2)\n",
            "Requirement already satisfied: PySocks!=1.5.7,>=1.5.6 in /usr/local/lib/python3.10/dist-packages (from requests[socks]->gdown) (1.7.1)\n"
          ]
        }
      ],
      "source": [
        "!pip install gdown"
      ]
    },
    {
      "cell_type": "code",
      "source": [
        "# download dataset\n",
        "import gdown\n",
        "\n",
        "# same as the above, but with the file ID\n",
        "id = \"1Eru_UHVc3WLHVveC9Q8K9QUxlzYeHt18\"\n",
        "gdown.download(id=id, output='energy_dataset.csv')"
      ],
      "metadata": {
        "colab": {
          "base_uri": "https://localhost:8080/",
          "height": 105
        },
        "id": "gRkYxTGvg67Z",
        "outputId": "d8c36c26-4395-4c65-ae44-62559c834154"
      },
      "execution_count": 5,
      "outputs": [
        {
          "output_type": "stream",
          "name": "stderr",
          "text": [
            "Downloading...\n",
            "From: https://drive.google.com/uc?id=1Eru_UHVc3WLHVveC9Q8K9QUxlzYeHt18\n",
            "To: /content/energy_dataset.csv\n",
            "100%|██████████| 12.0M/12.0M [00:00<00:00, 53.8MB/s]\n"
          ]
        },
        {
          "output_type": "execute_result",
          "data": {
            "text/plain": [
              "'energy_dataset.csv'"
            ],
            "application/vnd.google.colaboratory.intrinsic+json": {
              "type": "string"
            }
          },
          "metadata": {},
          "execution_count": 5
        }
      ]
    },
    {
      "cell_type": "code",
      "source": [
        "# Import libraries\n",
        "import pandas as pd\n",
        "import numpy as np\n",
        "from sklearn.linear_model import LinearRegression\n",
        "from sklearn.metrics import mean_squared_error\n",
        "from sklearn.metrics import mean_absolute_error\n",
        "from math import sqrt\n",
        "from sklearn.preprocessing import MinMaxScaler\n",
        "from sklearn.model_selection import train_test_split\n",
        "from sklearn.linear_model import Lasso\n",
        "from sklearn.linear_model import Ridge"
      ],
      "metadata": {
        "id": "DrKDX54uh6a4"
      },
      "execution_count": 35,
      "outputs": []
    },
    {
      "cell_type": "code",
      "source": [
        "df = pd.read_csv('energy_dataset.csv')"
      ],
      "metadata": {
        "id": "UszFnnxQiCIo"
      },
      "execution_count": 14,
      "outputs": []
    },
    {
      "cell_type": "code",
      "source": [
        "# From the dataset, fit a linear model on the relationship between the temperature in the\n",
        "# living room in Celsius (x = T2) and\n",
        "# the temperature outside the building (y = T6). What is the Root Mean Squared error in three D.P?\n",
        "\n",
        "df_1 = df[['T2', 'T6']]\n",
        "X = df_1[['T2']]\n",
        "y = df_1[['T6']]\n",
        "reg = LinearRegression().fit(X, y)\n",
        "y_pred = reg.predict(X)\n",
        "mse = mean_squared_error(y, y_pred)\n",
        "rmse = sqrt(mse)\n",
        "print(round(rmse, 3))\n"
      ],
      "metadata": {
        "colab": {
          "base_uri": "https://localhost:8080/"
        },
        "id": "KnjPeH7emjZF",
        "outputId": "fd054ab4-2edb-49c1-bc58-8d3157afefbe"
      },
      "execution_count": 19,
      "outputs": [
        {
          "output_type": "stream",
          "name": "stdout",
          "text": [
            "3.644\n"
          ]
        }
      ]
    },
    {
      "cell_type": "code",
      "source": [
        "# Remove the following columns: [“date”, “lights”]. The target variable is “Appliances”.\n",
        "# Use a 70-30 train-test set split with a  random state of 42 (for reproducibility).\n",
        "# Normalize the dataset using the MinMaxScaler (Hint: Use the MinMaxScaler fit_transform and\n",
        "# transform methods on the train and test set respectively). Run a multiple linear regression using\n",
        "# the training set.  Mean Absolute Error\n",
        "\n",
        "# Load the dataset\n",
        "df = pd.read_csv('energy_dataset.csv')\n",
        "\n",
        "# Drop unnecessary columns\n",
        "df = df.drop(['date', 'lights'], axis=1)\n",
        "\n",
        "# Separate features and target variable\n",
        "X = df.drop('Appliances', axis=1)\n",
        "y = df['Appliances']\n",
        "\n",
        "# Split the dataset into train and test sets\n",
        "X_train, X_test, y_train, y_test = train_test_split(X, y, test_size=0.3, random_state=42)\n",
        "\n",
        "# Normalize the data\n",
        "scaler = MinMaxScaler()\n",
        "X_train = scaler.fit_transform(X_train)\n",
        "X_test = scaler.transform(X_test)\n",
        "\n",
        "# Train the linear regression model\n",
        "model = LinearRegression()\n",
        "model.fit(X_train, y_train)\n",
        "\n",
        "# Make predictions on the test set\n",
        "y_pred = model.predict(X_test)\n",
        "\n",
        "# Calculate the mean absolute error\n",
        "mae = mean_absolute_error(y_test, y_pred)\n",
        "print('Mean absolute error:', mae)\n"
      ],
      "metadata": {
        "colab": {
          "base_uri": "https://localhost:8080/"
        },
        "id": "NVUC8tAQmyKL",
        "outputId": "ee4885b8-8aef-40e0-ba82-b90d226edd6f"
      },
      "execution_count": 21,
      "outputs": [
        {
          "output_type": "stream",
          "name": "stdout",
          "text": [
            "Mean absolute error: 53.64297765584956\n"
          ]
        }
      ]
    },
    {
      "cell_type": "code",
      "source": [
        "# What is the Mean Absolute Error (in three decimal places) for the  training set?\n",
        "\n",
        "y_train_pred = model.predict(X_train)\n",
        "mae_train = mean_absolute_error(y_train, y_train_pred)\n",
        "print('Mean absolute error (training set):', round(mae_train, 3))\n"
      ],
      "metadata": {
        "colab": {
          "base_uri": "https://localhost:8080/"
        },
        "id": "8J16jCHknVIf",
        "outputId": "cd94a7d7-304f-4312-c01e-93ba62c18b3a"
      },
      "execution_count": 23,
      "outputs": [
        {
          "output_type": "stream",
          "name": "stdout",
          "text": [
            "Mean absolute error (training set): 53.742\n"
          ]
        }
      ]
    },
    {
      "cell_type": "code",
      "source": [
        "# What is the Root Mean Squared Error (in three decimal places) for the training set?\n",
        "\n",
        "mse_train = mean_squared_error(y_train, y_train_pred)\n",
        "rmse_train = sqrt(mse_train)\n",
        "print('Root Mean Squared Error (training set):', round(rmse_train, 3))\n"
      ],
      "metadata": {
        "colab": {
          "base_uri": "https://localhost:8080/"
        },
        "id": "BOmbH81Lnrw4",
        "outputId": "d0ab78b6-4787-466c-f2ea-7e461d76483d"
      },
      "execution_count": 24,
      "outputs": [
        {
          "output_type": "stream",
          "name": "stdout",
          "text": [
            "Root Mean Squared Error (training set): 95.216\n"
          ]
        }
      ]
    },
    {
      "cell_type": "code",
      "source": [
        "# What is the Mean Absolute Error (in three decimal places) for test set?\n",
        "\n",
        "print('Mean absolute error:', round(mae, 3))\n"
      ],
      "metadata": {
        "colab": {
          "base_uri": "https://localhost:8080/"
        },
        "id": "j_YIm0b2n_9N",
        "outputId": "979d000d-dd3e-48fc-a8bd-2b1f8e85f63e"
      },
      "execution_count": 25,
      "outputs": [
        {
          "output_type": "stream",
          "name": "stdout",
          "text": [
            "Mean absolute error: 53.643\n"
          ]
        }
      ]
    },
    {
      "cell_type": "code",
      "source": [
        "# What is the Root Mean Squared Error (in three decimal places) for test set?\n",
        "\n",
        "mse = mean_squared_error(y_test, y_pred)\n",
        "rmse = sqrt(mse)\n",
        "print('Root Mean Squared Error:', round(rmse, 3))\n"
      ],
      "metadata": {
        "colab": {
          "base_uri": "https://localhost:8080/"
        },
        "id": "pRyq_aeyoGE3",
        "outputId": "fe8bc127-f52c-49cc-b56f-1e89a6367021"
      },
      "execution_count": 26,
      "outputs": [
        {
          "output_type": "stream",
          "name": "stdout",
          "text": [
            "Root Mean Squared Error: 93.64\n"
          ]
        }
      ]
    },
    {
      "cell_type": "code",
      "source": [
        "# Train a ridge regression model with default parameters.\n",
        "# Is there any change to the root mean squared error (RMSE) when evaluated on the test set?\n",
        "\n",
        "\n",
        "# Train the ridge regression model with default parameters\n",
        "ridge_model = Ridge()\n",
        "ridge_model.fit(X_train, y_train)\n",
        "\n",
        "# Make predictions on the test set\n",
        "y_pred_ridge = ridge_model.predict(X_test)\n",
        "\n",
        "# Calculate the root mean squared error\n",
        "mse_ridge = mean_squared_error(y_test, y_pred_ridge)\n",
        "rmse_ridge = sqrt(mse_ridge)\n",
        "\n",
        "# Compare the RMSE of the linear regression and ridge regression models\n",
        "print('Linear regression RMSE:', round(rmse, 3))\n",
        "print('Ridge regression RMSE:', round(rmse_ridge, 3))\n",
        "\n",
        "# There is a slight decrease in the RMSE when using the ridge regression model, indicating\n",
        "# that it may be a better fit for this dataset.\n"
      ],
      "metadata": {
        "colab": {
          "base_uri": "https://localhost:8080/"
        },
        "id": "ejqXZ1oEoPie",
        "outputId": "8d959898-7332-42f2-ac73-f988a1dce55c"
      },
      "execution_count": 27,
      "outputs": [
        {
          "output_type": "stream",
          "name": "stdout",
          "text": [
            "Linear regression RMSE: 93.64\n",
            "Ridge regression RMSE: 93.709\n"
          ]
        }
      ]
    },
    {
      "cell_type": "code",
      "source": [
        "# Train a lasso regression model with default value and\n",
        "# obtain the new feature weights with it. How many of the features have non-zero feature weights?\n",
        "\n",
        "\n",
        "\n",
        "# Train the Lasso regression model with default parameters\n",
        "lasso_model = Lasso()\n",
        "lasso_model.fit(X_train, y_train)\n",
        "\n",
        "# Get the feature weights\n",
        "feature_weights = lasso_model.coef_\n",
        "\n",
        "# Count the number of non-zero feature weights\n",
        "non_zero_weights = np.count_nonzero(feature_weights)\n",
        "\n",
        "# Print the number of features with non-zero weights\n",
        "print('Number of features with non-zero weights:', non_zero_weights)\n"
      ],
      "metadata": {
        "colab": {
          "base_uri": "https://localhost:8080/"
        },
        "id": "TTgXvjTNolgK",
        "outputId": "dc22e773-e8a2-4c8a-a588-859fdf714d97"
      },
      "execution_count": 30,
      "outputs": [
        {
          "output_type": "stream",
          "name": "stdout",
          "text": [
            "Number of features with non-zero weights: 4\n"
          ]
        }
      ]
    },
    {
      "cell_type": "code",
      "source": [
        "# What is the new RMSE with the Lasso Regression on the test set?\n",
        "\n",
        "# Make predictions on the test set\n",
        "y_pred_lasso = lasso_model.predict(X_test)\n",
        "\n",
        "# Calculate the root mean squared error\n",
        "mse_lasso = mean_squared_error(y_test, y_pred_lasso)\n",
        "rmse_lasso = sqrt(mse_lasso)\n",
        "\n",
        "# Print the RMSE of the Lasso regression model\n",
        "print('Lasso regression RMSE:', round(rmse_lasso, 3))\n"
      ],
      "metadata": {
        "colab": {
          "base_uri": "https://localhost:8080/"
        },
        "id": "LIjYAvTSosXG",
        "outputId": "6eaffa9f-9d70-42eb-80fe-157845a6306b"
      },
      "execution_count": 31,
      "outputs": [
        {
          "output_type": "stream",
          "name": "stdout",
          "text": [
            "Lasso regression RMSE: 99.424\n"
          ]
        }
      ]
    },
    {
      "cell_type": "code",
      "source": [],
      "metadata": {
        "id": "Zb8-ITbRpBYp"
      },
      "execution_count": null,
      "outputs": []
    }
  ]
}